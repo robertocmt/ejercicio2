{
 "cells": [
  {
   "cell_type": "code",
   "execution_count": 262,
   "metadata": {},
   "outputs": [],
   "source": [
    "import pandas as pd\n",
    "import matplotlib.pyplot as plt"
   ]
  },
  {
   "cell_type": "code",
   "execution_count": 263,
   "metadata": {},
   "outputs": [],
   "source": [
    "df = pd.read_excel('Jugadores.xlsx')"
   ]
  },
  {
   "cell_type": "code",
   "execution_count": 264,
   "metadata": {},
   "outputs": [
    {
     "name": "stdout",
     "output_type": "stream",
     "text": [
      "                   Nombre Equipo  Edad  Estatura  Salario   Posicion  Rebotes  \\\n",
      "0           Stephen Curry    GSW    30       191    37.46       Base       59   \n",
      "1             Joel Embiid    PHI    24       213     6.10      Pivot      149   \n",
      "2             Zach LaVine    CHI    23       196     3.20    Escolta       60   \n",
      "3            Kemba Walker    CHO    28       185    12.00       Base       46   \n",
      "4            Kevin Durant    GSW    30       206    26.54      Alero       83   \n",
      "5          Damian Lillard    POR    28       191    24.33       Base       56   \n",
      "6            LeBron James    LAL    34       203    35.65      Alero       86   \n",
      "7          Victor Oladipo    IND    26       193    21.00    Escolta       85   \n",
      "8           Blake Griffin    DET    29       208    29.70      Pivot      107   \n",
      "9            Tim Hardaway    NYK    26       198    16.50    Escolta       35   \n",
      "10          DeMar DeRozan    SAS    29       201    26.54      Alero       64   \n",
      "11  Giannis Antetokounmpo    MIL    24       211    24.16       Base      120   \n",
      "12            CJ McCollum    POR    27       193    25.76       Base       45   \n",
      "13         Nikola Mirotic    NOP    27       208    12.50  Ala-Pivot      129   \n",
      "14           Caris LeVert    BRK    24       198     1.50      Alero       51   \n",
      "15           Bradley Beal    WAS    25       196    22.12    Escolta       46   \n",
      "16          Klay Thompson    GSW    28       201    15.50    Escolta       43   \n",
      "17            Luka Doncic    DAL    19       201    18.40       Base       72   \n",
      "18            Paul George    OKC    28       206    19.51      Alero       67   \n",
      "19            Buddy Hield    SAC    25       193     3.50    Escolta       62   \n",
      "\n",
      "    Robos  Triples  Asistencias  Puntos  \n",
      "0      12       62           67     344  \n",
      "1       3       15           41     332  \n",
      "2      11       28           46     329  \n",
      "3      10       46           65     309  \n",
      "4      10       17           65     305  \n",
      "5       9       30           60     294  \n",
      "6      17       18           86     292  \n",
      "7      19       32           52     289  \n",
      "8       7       24           46     273  \n",
      "9      11       37           36     267  \n",
      "10     13        5           68     264  \n",
      "11      8        2           53     232  \n",
      "12      9       25           29     229  \n",
      "13      9       25           14     227  \n",
      "14     16       18           43     226  \n",
      "15      9       28           37     226  \n",
      "16      8       27           17     225  \n",
      "17      9       29           46     222  \n",
      "18     25       28           41     222  \n",
      "19      6       27           29     221  \n"
     ]
    }
   ],
   "source": [
    "print(df)"
   ]
  },
  {
   "cell_type": "code",
   "execution_count": 265,
   "metadata": {},
   "outputs": [
    {
     "data": {
      "text/html": [
       "<h1><center>MEJORES BASES DE LA NBA</center></h1>"
      ],
      "text/plain": [
       "<IPython.core.display.HTML object>"
      ]
     },
     "metadata": {},
     "output_type": "display_data"
    }
   ],
   "source": [
    "%%html\n",
    "<h1><center>MEJORES BASES DE LA NBA</center></h1>"
   ]
  },
  {
   "cell_type": "code",
   "execution_count": 267,
   "metadata": {},
   "outputs": [
    {
     "name": "stdout",
     "output_type": "stream",
     "text": [
      "67\n"
     ]
    },
    {
     "data": {
      "text/plain": [
       "<matplotlib.axes._subplots.AxesSubplot at 0x7fc3d1993a58>"
      ]
     },
     "execution_count": 267,
     "metadata": {},
     "output_type": "execute_result"
    },
    {
     "data": {
      "image/png": "[encoded data removed]",
      "text/plain": [
       "<Figure size 432x288 with 1 Axes>"
      ]
     },
     "metadata": {
      "needs_background": "light"
     },
     "output_type": "display_data"
    }
   ],
   "source": [
    "maxbasa = df.loc[df['Posicion'] == 'Base']['Asistencias'].max()\n",
    "df.loc[df['Posicion'] == 'Base'].groupby('Nombre')['Asistencias'].sum().plot(kind='bar')"
   ]
  },
  {
   "cell_type": "code",
   "execution_count": null,
   "metadata": {},
   "outputs": [],
   "source": []
  },
  {
   "cell_type": "code",
   "execution_count": null,
   "metadata": {},
   "outputs": [],
   "source": []
  },
  {
   "cell_type": "code",
   "execution_count": null,
   "metadata": {},
   "outputs": [],
   "source": []
  }
 ],
 "metadata": {
  "kernelspec": {
   "display_name": "Python 3",
   "language": "python",
   "name": "python3"
  },
  "language_info": {
   "codemirror_mode": {
    "name": "ipython",
    "version": 3
   },
   "file_extension": ".py",
   "mimetype": "text/x-python",
   "name": "python",
   "nbconvert_exporter": "python",
   "pygments_lexer": "ipython3",
   "version": "3.7.0"
  }
 },
 "nbformat": 4,
 "nbformat_minor": 2
}
